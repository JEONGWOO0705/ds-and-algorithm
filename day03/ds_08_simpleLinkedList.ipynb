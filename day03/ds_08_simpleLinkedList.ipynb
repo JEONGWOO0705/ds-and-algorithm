{
 "cells": [
  {
   "cell_type": "code",
   "execution_count": 164,
   "metadata": {},
   "outputs": [],
   "source": [
    "# DATE : 20240214\n",
    "# FILE : ds_08_simpleLinkedList.ipynb\n",
    "# DESC : 연결리스트 학습 다시"
   ]
  },
  {
   "cell_type": "markdown",
   "metadata": {},
   "source": [
    "## 자료구조 / 알고리즘\n",
    "\n",
    "- 연결리스트 중 단순 연결 리스트 다시 학습\n",
    "\n",
    "### 단순 연결리스트\n",
    "1. Node 클래스 생성\n",
    "    1.  클래스 구조\n",
    "\n",
    "        |data|node|\n",
    "        |---|---|"
   ]
  },
  {
   "cell_type": "code",
   "execution_count": 165,
   "metadata": {},
   "outputs": [],
   "source": [
    "# 노드 클래스\n",
    "class Node():\n",
    "    data = None # 실제 데이터 변수\n",
    "    link = None # 다음 노드를 지정하는 변수\n",
    "\n",
    "    def __init__(self) -> None:\n",
    "        # data = None  --->>> 이것은 위에 data와 다름 , 지역변수 데이터로 위에 data와 다른 변수가 됨\n",
    "        self.data = None    # 클래스 자신이 self이므로 클래스의 변수에 접근하려면 반드시 self\n",
    "        self.Link = None    \n"
   ]
  },
  {
   "cell_type": "markdown",
   "metadata": {},
   "source": [
    "2. 변수 선언"
   ]
  },
  {
   "cell_type": "code",
   "execution_count": 166,
   "metadata": {},
   "outputs": [],
   "source": [
    "memory = []\n",
    "head = None # 연결리스트 제일 첫 노드를 알려주는 변수   Node 객체가 할당\n",
    "prev = None # 현재 처리중인 노드 바로 앞의 노드를 지정하는 변수\n",
    "curr = None # 현재 처리중인 노드를 지정변수"
   ]
  },
  {
   "cell_type": "code",
   "execution_count": 167,
   "metadata": {},
   "outputs": [],
   "source": [
    "# 연결 데이터 순서 : 다현, 정연, 쯔위, 사나, 지효...\n",
    "# 추가 데이터 : 재남, 화사, 솔라, 문별\n",
    "# 삭제 데이터 : 다현, 쯔위"
   ]
  },
  {
   "cell_type": "code",
   "execution_count": 168,
   "metadata": {},
   "outputs": [],
   "source": [
    "node = Node()   # Node 객체 생성\n",
    "node.data = '다현'\n",
    "head = node     # 변수 node를 변수 head에 할당, head는 첫번째 노드 다현을 가리킨다\n"
   ]
  },
  {
   "cell_type": "code",
   "execution_count": 169,
   "metadata": {},
   "outputs": [],
   "source": [
    "prev = node     # 현재 node 객체를 prev변수 지정. prev가 현재 node 객체를 가르킨다\n",
    "node = Node()   # '다현'을 들고 있는 node는 이미 head, prev에 지정했기 때문에, 다시 정연을 담을 새 node 생성\n",
    "node.data = '정연'\n",
    "prev.link = node    # '다현'을 들고있는 prev(==node 객체와 동일)에 다음 node가 정연인 것을 지정"
   ]
  },
  {
   "cell_type": "code",
   "execution_count": 170,
   "metadata": {},
   "outputs": [],
   "source": [
    "prev = node     \n",
    "node = Node()  \n",
    "node.data = '쯔위'\n",
    "prev.link = node    "
   ]
  },
  {
   "cell_type": "markdown",
   "metadata": {},
   "source": [
    "3. 연결리스트 출력할 함수"
   ]
  },
  {
   "cell_type": "code",
   "execution_count": 171,
   "metadata": {},
   "outputs": [],
   "source": [
    "def printNodes(start):  # start부터 시작해서 끝까지 노드의 data를 출력\n",
    "    curr = start    # start == head\n",
    "    if curr == None: return # break, continue는 반복문이 없으면 안됨\n",
    "    while True:\n",
    "        if curr.link == None:   # 뒤에 연결할 노드가 더이상 없으면\n",
    "            print(curr.data)    # 자기 데이터만 출력하고   \n",
    "            break               # 반복문을 탈출\n",
    "        else:\n",
    "            print(curr.data, end= ' -> ')   #연결할 노드가 있을때는, 연결 표시 ->를 해주고\n",
    "            curr= curr.link                 # 자기 뒤의 데이터를 curr로 바꿔줌\n",
    "    print()\n"
   ]
  },
  {
   "cell_type": "code",
   "execution_count": 172,
   "metadata": {},
   "outputs": [
    {
     "name": "stdout",
     "output_type": "stream",
     "text": [
      "다현 -> 정연 -> 쯔위\n",
      "\n"
     ]
    }
   ],
   "source": [
    "printNodes(head)"
   ]
  },
  {
   "cell_type": "code",
   "execution_count": 173,
   "metadata": {},
   "outputs": [],
   "source": [
    "originData = ['다현', '정연', '쯔위', '사나', '지효']\n"
   ]
  },
  {
   "cell_type": "markdown",
   "metadata": {},
   "source": [
    "4. 연결리스트 맨 앞에 노드 삽입"
   ]
  },
  {
   "cell_type": "code",
   "execution_count": 174,
   "metadata": {},
   "outputs": [
    {
     "name": "stdout",
     "output_type": "stream",
     "text": [
      "다현 -> 정연 -> 쯔위\n",
      "\n"
     ]
    }
   ],
   "source": [
    "printNodes(head)"
   ]
  },
  {
   "cell_type": "code",
   "execution_count": 175,
   "metadata": {},
   "outputs": [],
   "source": [
    "prev = node     # 현재 node 객체를 prev변수 지정. prev가 현재 node 객체를 가르킨다\n",
    "node = Node()   # '다현'을 들고 있는 node는 이미 head, prev에 지정했기 때문에, 다시 정연을 담을 새 node 생성\n",
    "node.data = '사나'\n",
    "prev.link = node    # '다현'을 들고있는 prev(==node 객체와 동일)에 다음 node가 정연인 것을 지정"
   ]
  },
  {
   "cell_type": "code",
   "execution_count": 176,
   "metadata": {},
   "outputs": [],
   "source": [
    "prev = node     # 현재 node 객체를 prev변수 지정. prev가 현재 node 객체를 가르킨다\n",
    "node = Node()   # '다현'을 들고 있는 node는 이미 head, prev에 지정했기 때문에, 다시 정연을 담을 새 node 생성\n",
    "node.data = '지효'\n",
    "prev.link = node    # '다현'을 들고있는 prev(==node 객체와 동일)에 다음 node가 정연인 것을 지정"
   ]
  },
  {
   "cell_type": "code",
   "execution_count": 177,
   "metadata": {},
   "outputs": [
    {
     "name": "stdout",
     "output_type": "stream",
     "text": [
      "다현 -> 정연 -> 쯔위 -> 사나 -> 지효\n",
      "\n"
     ]
    }
   ],
   "source": [
    "printNodes(head)"
   ]
  },
  {
   "cell_type": "code",
   "execution_count": 178,
   "metadata": {},
   "outputs": [],
   "source": [
    "# 연결리스트 맨 앞에 삽입\n",
    "node = Node()\n",
    "node.data = '화사'\n",
    "node.link = head    # 현재 '다현'을 가르킴\n",
    "head = node # head 가 변경됨"
   ]
  },
  {
   "cell_type": "code",
   "execution_count": 179,
   "metadata": {},
   "outputs": [
    {
     "name": "stdout",
     "output_type": "stream",
     "text": [
      "화사 -> 다현 -> 정연 -> 쯔위 -> 사나 -> 지효\n",
      "\n"
     ]
    }
   ],
   "source": [
    "printNodes(head)"
   ]
  },
  {
   "cell_type": "markdown",
   "metadata": {},
   "source": [
    "5. 연결리스트 중간에 새 노드 삽입"
   ]
  },
  {
   "cell_type": "code",
   "execution_count": 180,
   "metadata": {},
   "outputs": [],
   "source": [
    "curr = head # curr이 제일 처음으로 이동\n",
    "\n",
    "while curr.link != None:\n",
    "    prev = curr # prev와 curr가 같은 노드를 가르킴\n",
    "    curr = curr.link    # curr이 가르키는 다음값을 curr로 지정 (prev는 앞에 있고 curr이 뒤로 한칸 넘어감)\n",
    "\n",
    "    if curr.data == '사나':\n",
    "        node = Node()\n",
    "        node.data = '솔라'\n",
    "        node.link = curr    # '사나' node 앞에다 '솔라' node를 연결\n",
    "        prev.link = node    # '솔라' node가 prev.link 에 연결"
   ]
  },
  {
   "cell_type": "code",
   "execution_count": 181,
   "metadata": {},
   "outputs": [
    {
     "name": "stdout",
     "output_type": "stream",
     "text": [
      "화사 -> 다현 -> 정연 -> 쯔위 -> 솔라 -> 사나 -> 지효\n",
      "\n"
     ]
    }
   ],
   "source": [
    "printNodes(head)"
   ]
  },
  {
   "cell_type": "markdown",
   "metadata": {},
   "source": [
    "6. 연결리스트 마지막에 새노드 삽입"
   ]
  },
  {
   "cell_type": "code",
   "execution_count": 182,
   "metadata": {},
   "outputs": [],
   "source": [
    "node = Node()\n",
    "node.data = '문별'\n",
    "curr.link = node"
   ]
  },
  {
   "cell_type": "code",
   "execution_count": 183,
   "metadata": {},
   "outputs": [
    {
     "name": "stdout",
     "output_type": "stream",
     "text": [
      "화사 -> 다현 -> 정연 -> 쯔위 -> 솔라 -> 사나 -> 지효 -> 문별\n",
      "\n"
     ]
    }
   ],
   "source": [
    "printNodes(head)"
   ]
  },
  {
   "cell_type": "markdown",
   "metadata": {},
   "source": [
    "### 정리\n",
    "- 맨앞, 중간에 삽입한 것 : 파이썬의 list.insert(index, data)와 동일\n",
    "- 맨 뒤에 삽입한 것 : 파이썬의 list.append(data)와 동일"
   ]
  },
  {
   "cell_type": "markdown",
   "metadata": {},
   "source": [
    "7. 첫번째 노드 삭제"
   ]
  },
  {
   "cell_type": "code",
   "execution_count": 184,
   "metadata": {},
   "outputs": [],
   "source": [
    "curr = head\n",
    "head = head.link\n"
   ]
  },
  {
   "cell_type": "code",
   "execution_count": 185,
   "metadata": {},
   "outputs": [],
   "source": [
    "del(curr)"
   ]
  },
  {
   "cell_type": "markdown",
   "metadata": {},
   "source": [
    "8. 첫번째 외 노드 삭제"
   ]
  },
  {
   "cell_type": "code",
   "execution_count": 187,
   "metadata": {},
   "outputs": [],
   "source": [
    "curr = head\n",
    "while curr.link != None:\n",
    "    prev = curr\n",
    "    curr = curr.link\n",
    "\n",
    "    if curr.data == '쯔위': # '쯔위'노드 삭제\n",
    "        prev.link = curr.link\n",
    "        # curr.link = None  # 굳이 이부분 필요 없음\n",
    "        del(curr)"
   ]
  },
  {
   "cell_type": "code",
   "execution_count": 188,
   "metadata": {},
   "outputs": [
    {
     "name": "stdout",
     "output_type": "stream",
     "text": [
      "다현 -> 정연 -> 솔라 -> 사나 -> 지효 -> 문별\n",
      "\n"
     ]
    }
   ],
   "source": [
    "printNodes(head)"
   ]
  },
  {
   "cell_type": "code",
   "execution_count": 190,
   "metadata": {},
   "outputs": [],
   "source": [
    "curr = head\n",
    "while curr.link != None:\n",
    "    prev = curr\n",
    "    curr = curr.link\n",
    "\n",
    "    if curr.data == '문별': # '쯔위'노드 삭제\n",
    "        prev.link = curr.link\n",
    "        # curr.link = None  # 굳이 이부분 필요 없음\n",
    "        del(curr)"
   ]
  },
  {
   "cell_type": "code",
   "execution_count": 191,
   "metadata": {},
   "outputs": [
    {
     "name": "stdout",
     "output_type": "stream",
     "text": [
      "다현 -> 정연 -> 솔라 -> 사나 -> 지효\n",
      "\n"
     ]
    }
   ],
   "source": [
    "printNodes(head)\n"
   ]
  },
  {
   "cell_type": "markdown",
   "metadata": {},
   "source": [
    "9. 노드 검색"
   ]
  },
  {
   "cell_type": "code",
   "execution_count": 193,
   "metadata": {},
   "outputs": [],
   "source": [
    "find = '재남'\n",
    "curr = head # curr은 사용되는 변수라서 이 작업을 항상 해주어야함\n",
    "if curr.data == find:\n",
    "    print(curr)\n",
    "\n",
    "while curr.link != None:\n",
    "    curr = curr.link    # 다음 노드로 넘김\n",
    "    if curr.data == find : \n",
    "        print(curr.data)\n",
    "\n"
   ]
  },
  {
   "cell_type": "markdown",
   "metadata": {},
   "source": [
    "### 정리\n",
    "- 노드 검색은 파이썬 리스트의 list.index(), list.count() 와 유사\n"
   ]
  },
  {
   "cell_type": "code",
   "execution_count": 195,
   "metadata": {},
   "outputs": [
    {
     "data": {
      "text/plain": [
       "['다현', '정연', '쯔위', '사나', '지효']"
      ]
     },
     "execution_count": 195,
     "metadata": {},
     "output_type": "execute_result"
    }
   ],
   "source": [
    "originData"
   ]
  },
  {
   "cell_type": "code",
   "execution_count": null,
   "metadata": {},
   "outputs": [],
   "source": [
    "originData.append('사나')"
   ]
  },
  {
   "cell_type": "code",
   "execution_count": 196,
   "metadata": {},
   "outputs": [
    {
     "data": {
      "text/plain": [
       "1"
      ]
     },
     "execution_count": 196,
     "metadata": {},
     "output_type": "execute_result"
    }
   ],
   "source": [
    "originData.index('정연')"
   ]
  }
 ],
 "metadata": {
  "kernelspec": {
   "display_name": "Python 3",
   "language": "python",
   "name": "python3"
  },
  "language_info": {
   "codemirror_mode": {
    "name": "ipython",
    "version": 3
   },
   "file_extension": ".py",
   "mimetype": "text/x-python",
   "name": "python",
   "nbconvert_exporter": "python",
   "pygments_lexer": "ipython3",
   "version": "3.11.5"
  }
 },
 "nbformat": 4,
 "nbformat_minor": 2
}
