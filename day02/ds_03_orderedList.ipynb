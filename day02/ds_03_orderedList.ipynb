{
 "cells": [
  {
   "cell_type": "code",
   "execution_count": 24,
   "metadata": {},
   "outputs": [],
   "source": [
    "# DATE : 20240213\n",
    "# FILE : ds_03_orderedList.ipynb\n",
    "# DESC : 선형 리스트"
   ]
  },
  {
   "cell_type": "markdown",
   "metadata": {},
   "source": [
    "## 자료구조와 알고리즘\n",
    "- 선형 리스트\n",
    "\n",
    "### 1. 선형 리스트 개념 및 내용\n",
    "- 파이썬의 리스트는 일반적인 프로그래밍(c언어 등)의 배열과 다름\n",
    "- 파이썬의 성능 문제로 배열과 리스트를 하나로 통합"
   ]
  },
  {
   "cell_type": "code",
   "execution_count": 25,
   "metadata": {},
   "outputs": [],
   "source": [
    "kakaotalk = [200, 150, 90, 30, 15]"
   ]
  },
  {
   "cell_type": "code",
   "execution_count": 26,
   "metadata": {},
   "outputs": [
    {
     "name": "stdout",
     "output_type": "stream",
     "text": [
      "140734459280392\n",
      "140734459278792\n",
      "140734459276872\n",
      "140734459274952\n",
      "140734459274472\n"
     ]
    }
   ],
   "source": [
    "print(id(kakaotalk[0])) # 메모리에 저장된 주소를 10진수 표현\n",
    "print(id(kakaotalk[1]))\n",
    "print(id(kakaotalk[2]))\n",
    "print(id(kakaotalk[3]))\n",
    "print(id(kakaotalk[4]))"
   ]
  },
  {
   "cell_type": "markdown",
   "metadata": {},
   "source": [
    "### 2. 선형 리스트 구현\n",
    "- 파이썬에서 실제로 이렇게 복잡하게 할 필요 없음\n",
    "- 배열(단순 선형 리스트)를 이해하기 위해 만든 예제"
   ]
  },
  {
   "cell_type": "code",
   "execution_count": 27,
   "metadata": {},
   "outputs": [],
   "source": [
    "kakaotalk = [] # 빈 배열 생성\n",
    "\n",
    "def add_data(friend):\n",
    "    kakaotalk.append(None) # 배열 빈자리를 생성\n",
    "    size = len(kakaotalk) # 배열의 전체 크기 확인\n",
    "    kakaotalk[size - 1] = friend\n",
    "\n"
   ]
  },
  {
   "cell_type": "code",
   "execution_count": 28,
   "metadata": {},
   "outputs": [],
   "source": [
    "add_data('다현')\n",
    "add_data('정연')\n",
    "add_data('쯔위')\n",
    "add_data('사나')\n",
    "add_data('지효')\n"
   ]
  },
  {
   "cell_type": "code",
   "execution_count": 29,
   "metadata": {},
   "outputs": [
    {
     "name": "stdout",
     "output_type": "stream",
     "text": [
      "['다현', '정연', '쯔위', '사나', '지효']\n"
     ]
    }
   ],
   "source": [
    "print(kakaotalk)"
   ]
  },
  {
   "cell_type": "code",
   "execution_count": 30,
   "metadata": {},
   "outputs": [],
   "source": [
    "# kakaotalk.insert(2.'솔라') 와 동일한 함수\n",
    "# 데이터 삽입 함수\n",
    "\n",
    "def insert_data(pos, friend):\n",
    "    if pos<0 or pos > len(kakaotalk):\n",
    "        print('데이터 삽입 범위 초과')\n",
    "        return # 함수를 빠져나감\n",
    "    \n",
    "    # 정상적인 처리 시작\n",
    "    kakaotalk.append(None)  # 빈칸 생성\n",
    "    size = len(kakaotalk)   # 배열의 크기\n",
    "    # 삽입 위치까지 데이터를 하나씩 뒤로 보냄\n",
    "    for i in range(size - 1 , pos, -1): # 역순으로 맨뒤에서 부터\n",
    "        kakaotalk[i] = kakaotalk[i-1]\n",
    "        kakaotalk[i-1] = None\n",
    "\n",
    "    kakaotalk[pos] = friend\n",
    "\n",
    "    "
   ]
  },
  {
   "cell_type": "code",
   "execution_count": 31,
   "metadata": {},
   "outputs": [
    {
     "name": "stdout",
     "output_type": "stream",
     "text": [
      "['다현', '정연', '솔라', '쯔위', '사나', '지효']\n"
     ]
    }
   ],
   "source": [
    "# 데이터 삽입\n",
    "insert_data(2,'솔라')\n",
    "print(kakaotalk)\n"
   ]
  },
  {
   "cell_type": "code",
   "execution_count": 32,
   "metadata": {},
   "outputs": [
    {
     "name": "stdout",
     "output_type": "stream",
     "text": [
      "1\n",
      "2\n",
      "3\n",
      "4\n",
      "5\n"
     ]
    }
   ],
   "source": [
    "for i in range(1,6,1): # , 두번째 쉼표의 수는 출력이 안됨\n",
    "    print(i)"
   ]
  },
  {
   "cell_type": "code",
   "execution_count": 33,
   "metadata": {},
   "outputs": [
    {
     "name": "stdout",
     "output_type": "stream",
     "text": [
      "6\n",
      "5\n",
      "4\n",
      "3\n",
      "2\n"
     ]
    }
   ],
   "source": [
    "for i in range(6,1,-1): # , 두번째 쉼표의 수는 출력이 안됨\n",
    "    print(i)"
   ]
  },
  {
   "cell_type": "code",
   "execution_count": 35,
   "metadata": {},
   "outputs": [],
   "source": [
    "## 데이터 삭제\n",
    "def delete_date(pos):\n",
    "    if pos<0 or pos >= len(kakaotalk):\n",
    "        print('데이터 삭제 범위 초과')\n",
    "        return # 함수를 빠져나감\n",
    "    \n",
    "    size = len(kakaotalk)\n",
    "    kakaotalk[pos] = None\n",
    "\n",
    "    for i in range(pos+1, size):\n",
    "        kakaotalk[i-1] = kakaotalk[i] # 뒤에 값을 앞으로\n",
    "        kakaotalk[i] = None\n",
    "\n",
    "    del(kakaotalk[size-1]) # 배열의 맨 마지막 값 삭제"
   ]
  },
  {
   "cell_type": "code",
   "execution_count": 36,
   "metadata": {},
   "outputs": [
    {
     "name": "stdout",
     "output_type": "stream",
     "text": [
      "['다현', '정연', '솔라', '사나', '지효']\n"
     ]
    }
   ],
   "source": [
    "## ['다현', '정연', '솔라', '쯔위', '사나', '지효']\n",
    "# 쯔위 삭제\n",
    "delete_date(3)\n",
    "print(kakaotalk)"
   ]
  }
 ],
 "metadata": {
  "kernelspec": {
   "display_name": "Python 3",
   "language": "python",
   "name": "python3"
  },
  "language_info": {
   "codemirror_mode": {
    "name": "ipython",
    "version": 3
   },
   "file_extension": ".py",
   "mimetype": "text/x-python",
   "name": "python",
   "nbconvert_exporter": "python",
   "pygments_lexer": "ipython3",
   "version": "3.11.5"
  }
 },
 "nbformat": 4,
 "nbformat_minor": 2
}
