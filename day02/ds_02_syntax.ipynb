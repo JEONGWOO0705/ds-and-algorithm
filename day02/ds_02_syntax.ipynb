{
 "cells": [
  {
   "cell_type": "code",
   "execution_count": null,
   "metadata": {},
   "outputs": [],
   "source": [
    "# DATE : 20240213\n",
    "# FILE : ds_02_syntax.ipynb\n",
    "# DESC : 파이썬 기초 복습"
   ]
  },
  {
   "cell_type": "markdown",
   "metadata": {},
   "source": [
    "## 자료구조와 알고리즘\n",
    "\n",
    "- 파이썬 기초 문법 복습\n",
    "\n",
    "### 1. 리스트 컨프리 헨션(함축)"
   ]
  },
  {
   "cell_type": "code",
   "execution_count": 1,
   "metadata": {},
   "outputs": [
    {
     "name": "stdout",
     "output_type": "stream",
     "text": [
      "[1, 2, 3, 4, 5]\n"
     ]
    }
   ],
   "source": [
    "nums = []\n",
    "for i in range(1,6): # 반복문으로\n",
    "    nums.append(i)\n",
    "\n",
    "print(nums)"
   ]
  },
  {
   "cell_type": "code",
   "execution_count": 2,
   "metadata": {},
   "outputs": [
    {
     "name": "stdout",
     "output_type": "stream",
     "text": [
      "[1, 2, 3, 4, 5]\n"
     ]
    }
   ],
   "source": [
    "nums = list(range(1,6)) # 클래스로 생성\n",
    "print(nums)"
   ]
  },
  {
   "cell_type": "code",
   "execution_count": 5,
   "metadata": {},
   "outputs": [
    {
     "name": "stdout",
     "output_type": "stream",
     "text": [
      "[1, 2, 3, 4, 5]\n"
     ]
    }
   ],
   "source": [
    "nums = [i for i in range(1,6)] # 리스트 함축\n",
    "print(nums)\n"
   ]
  },
  {
   "cell_type": "code",
   "execution_count": 6,
   "metadata": {},
   "outputs": [
    {
     "name": "stdout",
     "output_type": "stream",
     "text": [
      "[1, 4, 9, 16, 25]\n"
     ]
    }
   ],
   "source": [
    "nums = [i * i for i in range (1,6)]\n",
    "print(nums)\n"
   ]
  },
  {
   "cell_type": "code",
   "execution_count": 8,
   "metadata": {},
   "outputs": [
    {
     "name": "stdout",
     "output_type": "stream",
     "text": [
      "[3, 6, 9, 12, 15, 18]\n"
     ]
    }
   ],
   "source": [
    "nums = []\n",
    "nums = [i for i in range(1,21) if i % 3 == 0] # 3의 배수만 리스트\n",
    "print(nums)\n"
   ]
  },
  {
   "cell_type": "code",
   "execution_count": 10,
   "metadata": {},
   "outputs": [
    {
     "name": "stdout",
     "output_type": "stream",
     "text": [
      "[[0, 1, 2, 3], [0, 1, 2, 3], [0, 1, 2, 3]]\n"
     ]
    }
   ],
   "source": [
    "# 2차원 리스트\n",
    "nums2 = [[i for i in range(4)] for j in range(3)]  # [[열, 안쪽값] 행, 바깥쪽 값]\n",
    "print(nums2)\n"
   ]
  },
  {
   "cell_type": "markdown",
   "metadata": {},
   "source": [
    "### 세트"
   ]
  },
  {
   "cell_type": "code",
   "execution_count": 11,
   "metadata": {},
   "outputs": [
    {
     "name": "stdout",
     "output_type": "stream",
     "text": [
      "{1, 2, 3}\n"
     ]
    }
   ],
   "source": [
    "myset = {1,2,3,3,2,1} # 집합은 같은수는 없애줌\n",
    "print(myset)"
   ]
  },
  {
   "cell_type": "markdown",
   "metadata": {},
   "source": [
    "### 로또 번호 생성기"
   ]
  },
  {
   "cell_type": "code",
   "execution_count": 16,
   "metadata": {},
   "outputs": [],
   "source": [
    "import random"
   ]
  },
  {
   "cell_type": "code",
   "execution_count": 17,
   "metadata": {},
   "outputs": [],
   "source": [
    "# 전역 변수 선언\n",
    "totalLotto = [] # 최종 로또 번호 , 2차원 리스트\n",
    "lotto = []  # 한 회별 로또 번호 저장, 1차원 리스트\n",
    "pickNum = 0\n",
    "count = 0"
   ]
  },
  {
   "cell_type": "code",
   "execution_count": 18,
   "metadata": {},
   "outputs": [
    {
     "name": "stdout",
     "output_type": "stream",
     "text": [
      "로또 번호 생성 시작\n",
      "로또 번호 생성 완료\n"
     ]
    }
   ],
   "source": [
    "print('로또 번호 생성 시작')\n",
    "count = int(input('뽑을 횟수 입력 : '))\n",
    "\n",
    "for _ in range(count): ## _ 은 반복되는 숫자를 사용하지 않겠다 라는 의미\n",
    "    lotto = []\n",
    "    while True:\n",
    "        pickNum = random.randint(1,45) # 1부터 45사이의 수를 저장\n",
    "        if pickNum not in lotto: # 랜덤으로 뽑은 수가 이미 있으면 패스\n",
    "            lotto.append(pickNum)\n",
    "        else:\n",
    "            continue # 반복문이 여러개 있으면 자신이 속한 반복문만 다시 반복\n",
    "\n",
    "        if len(lotto) >= 6: # 숫자를 6개 뽑았으면 break\n",
    "            break # 반복문이 여러개 있으면 자신이 속한 반복문만 빠져나감\n",
    "\n",
    "    totalLotto.append(lotto)\n",
    "\n",
    "print('로또 번호 생성 완료')"
   ]
  },
  {
   "cell_type": "code",
   "execution_count": 21,
   "metadata": {},
   "outputs": [
    {
     "name": "stdout",
     "output_type": "stream",
     "text": [
      "로또 번호는 :  05 16 25 32 34 37 \n",
      "로또 번호는 :  13 18 20 25 27 31 \n",
      "로또 번호는 :  07 12 24 25 31 34 \n",
      "로또 번호는 :  11 20 30 33 41 44 \n",
      "로또 번호는 :  18 20 23 24 44 45 \n"
     ]
    }
   ],
   "source": [
    "for item in totalLotto:\n",
    "    item.sort()\n",
    "    print('로또 번호는 : ', end=' ')\n",
    "    for i in item:\n",
    "        print(f'{i:02d}', end=' ')\n",
    "\n",
    "    print()"
   ]
  }
 ],
 "metadata": {
  "kernelspec": {
   "display_name": "Python 3",
   "language": "python",
   "name": "python3"
  },
  "language_info": {
   "codemirror_mode": {
    "name": "ipython",
    "version": 3
   },
   "file_extension": ".py",
   "mimetype": "text/x-python",
   "name": "python",
   "nbconvert_exporter": "python",
   "pygments_lexer": "ipython3",
   "version": "3.11.5"
  }
 },
 "nbformat": 4,
 "nbformat_minor": 2
}
